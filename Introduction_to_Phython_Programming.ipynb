{
  "nbformat": 4,
  "nbformat_minor": 0,
  "metadata": {
    "colab": {
      "name": "Introduction to Phython Programming",
      "provenance": [],
      "authorship_tag": "ABX9TyO33g7bVSgUUco+9j+bZW0x",
      "include_colab_link": true
    },
    "kernelspec": {
      "name": "python3",
      "display_name": "Python 3"
    },
    "language_info": {
      "name": "python"
    }
  },
  "cells": [
    {
      "cell_type": "markdown",
      "metadata": {
        "id": "view-in-github",
        "colab_type": "text"
      },
      "source": [
        "<a href=\"https://colab.research.google.com/github/JBCuntapay/CPEN-21-ECE-2-2/blob/main/Introduction_to_Phython_Programming.ipynb\" target=\"_parent\"><img src=\"https://colab.research.google.com/assets/colab-badge.svg\" alt=\"Open In Colab\"/></a>"
      ]
    },
    {
      "cell_type": "code",
      "metadata": {
        "colab": {
          "base_uri": "https://localhost:8080/"
        },
        "id": "fxOS6ASF_y_r",
        "outputId": "ea676171-2e7a-4e56-adbe-a34cb3cc874f"
      },
      "source": [
        "print(\"Welcome to Phython Programming\")"
      ],
      "execution_count": 1,
      "outputs": [
        {
          "output_type": "stream",
          "name": "stdout",
          "text": [
            "Welcome to Phython Programming\n"
          ]
        }
      ]
    },
    {
      "cell_type": "code",
      "metadata": {
        "colab": {
          "base_uri": "https://localhost:8080/"
        },
        "id": "VCmQM94nAMs_",
        "outputId": "45f77529-fa1c-4b08-a2fa-fdbe24cbfedb"
      },
      "source": [
        "b=\"Sally\"\n",
        "print (b)"
      ],
      "execution_count": 2,
      "outputs": [
        {
          "output_type": "stream",
          "name": "stdout",
          "text": [
            "Sally\n"
          ]
        }
      ]
    },
    {
      "cell_type": "code",
      "metadata": {
        "colab": {
          "base_uri": "https://localhost:8080/"
        },
        "id": "dRgA55APCR8h",
        "outputId": "e7bf64b4-b118-4cbc-9d36-2e695102fc5b"
      },
      "source": [
        "b=int(4)\n",
        "print (b)"
      ],
      "execution_count": 15,
      "outputs": [
        {
          "output_type": "stream",
          "name": "stdout",
          "text": [
            "4\n"
          ]
        }
      ]
    },
    {
      "cell_type": "code",
      "metadata": {
        "colab": {
          "base_uri": "https://localhost:8080/"
        },
        "id": "DCA34yc5AiH5",
        "outputId": "ff044cef-75e4-4515-9d56-623486dfe5a7"
      },
      "source": [
        "x=5\n",
        "y=(\"john\")\n",
        "print(type(y))"
      ],
      "execution_count": 3,
      "outputs": [
        {
          "output_type": "stream",
          "name": "stdout",
          "text": [
            "<class 'str'>\n"
          ]
        }
      ]
    },
    {
      "cell_type": "code",
      "metadata": {
        "colab": {
          "base_uri": "https://localhost:8080/"
        },
        "id": "OCmVYqlTAr5p",
        "outputId": "7d02eabf-6d31-4c6f-f23c-4cf40619d12d"
      },
      "source": [
        "a=4\n",
        "A=\"Sally\"\n",
        "#A will not overwrite a\n",
        "print (A)"
      ],
      "execution_count": 5,
      "outputs": [
        {
          "output_type": "stream",
          "name": "stdout",
          "text": [
            "Sally\n"
          ]
        }
      ]
    },
    {
      "cell_type": "code",
      "metadata": {
        "colab": {
          "base_uri": "https://localhost:8080/"
        },
        "id": "p_hHib1QA8p4",
        "outputId": "03e63607-9ca8-411a-f0b3-86e4abb8dcf7"
      },
      "source": [
        "x,y,z=\"one\",\"two\",\"three\"\n",
        "print (x)\n",
        "print (y)\n",
        "print (z)"
      ],
      "execution_count": 6,
      "outputs": [
        {
          "output_type": "stream",
          "name": "stdout",
          "text": [
            "one\n",
            "two\n",
            "three\n"
          ]
        }
      ]
    },
    {
      "cell_type": "code",
      "metadata": {
        "colab": {
          "base_uri": "https://localhost:8080/"
        },
        "id": "fPn2sQSpBG3R",
        "outputId": "d71bbcab-a3e5-4b2e-9b36-5d03a6cf2c05"
      },
      "source": [
        "x=y=z=\"Four\"\n",
        "print (x)\n",
        "print (y)\n",
        "print (z)\n"
      ],
      "execution_count": 7,
      "outputs": [
        {
          "output_type": "stream",
          "name": "stdout",
          "text": [
            "Four\n",
            "Four\n",
            "Four\n"
          ]
        }
      ]
    },
    {
      "cell_type": "code",
      "metadata": {
        "colab": {
          "base_uri": "https://localhost:8080/"
        },
        "id": "pZS6O_QgBVaK",
        "outputId": "46d2778a-3320-42f8-ecb9-03613bca01cc"
      },
      "source": [
        "x='enjoying'\n",
        "print (\"Python Programming is \"+ x)\n"
      ],
      "execution_count": 9,
      "outputs": [
        {
          "output_type": "stream",
          "name": "stdout",
          "text": [
            "Python Programming is enjoying\n"
          ]
        }
      ]
    },
    {
      "cell_type": "code",
      "metadata": {
        "colab": {
          "base_uri": "https://localhost:8080/"
        },
        "id": "C0LqW7vlBilR",
        "outputId": "b977e887-398b-4b09-cc3f-cff9adf4f6c5"
      },
      "source": [
        "x=\"Phyton programming is \"\n",
        "y=\"enjoying\"\n",
        "print (x + y)"
      ],
      "execution_count": 10,
      "outputs": [
        {
          "output_type": "stream",
          "name": "stdout",
          "text": [
            "Phyton programming is enjoying\n"
          ]
        }
      ]
    },
    {
      "cell_type": "code",
      "metadata": {
        "colab": {
          "base_uri": "https://localhost:8080/"
        },
        "id": "3kyoZgXABuV5",
        "outputId": "810dfb9b-16ac-44a6-d5f5-9c864aa40189"
      },
      "source": [
        "x=5\n",
        "y=3\n",
        "sum=x+y\n",
        "print(sum)\n"
      ],
      "execution_count": 11,
      "outputs": [
        {
          "output_type": "stream",
          "name": "stdout",
          "text": [
            "8\n"
          ]
        }
      ]
    },
    {
      "cell_type": "code",
      "metadata": {
        "colab": {
          "base_uri": "https://localhost:8080/"
        },
        "id": "OxKkaOT6B04C",
        "outputId": "d5c309ef-586b-4dc8-edff-5ebe4492c27d"
      },
      "source": [
        "a,b,c=0,-1,8\n",
        "c%=3\n",
        "print (c)"
      ],
      "execution_count": 12,
      "outputs": [
        {
          "output_type": "stream",
          "name": "stdout",
          "text": [
            "2\n"
          ]
        }
      ]
    },
    {
      "cell_type": "code",
      "metadata": {
        "colab": {
          "base_uri": "https://localhost:8080/"
        },
        "id": "R_uPSAwRB8MK",
        "outputId": "1dc9aee8-fd85-41f1-f597-6349fded67a8"
      },
      "source": [
        "x=5\n",
        "x<6 and x<10"
      ],
      "execution_count": 13,
      "outputs": [
        {
          "output_type": "execute_result",
          "data": {
            "text/plain": [
              "True"
            ]
          },
          "metadata": {},
          "execution_count": 13
        }
      ]
    },
    {
      "cell_type": "code",
      "metadata": {
        "colab": {
          "base_uri": "https://localhost:8080/"
        },
        "id": "oReSq6diCDBK",
        "outputId": "acd6a547-fe85-47b5-e050-f6c8878bca44"
      },
      "source": [
        "y=6\n",
        "z=7\n",
        "y is not z"
      ],
      "execution_count": 14,
      "outputs": [
        {
          "output_type": "execute_result",
          "data": {
            "text/plain": [
              "True"
            ]
          },
          "metadata": {},
          "execution_count": 14
        }
      ]
    }
  ]
}