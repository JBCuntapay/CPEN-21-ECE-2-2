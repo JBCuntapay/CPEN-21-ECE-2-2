{
  "nbformat": 4,
  "nbformat_minor": 0,
  "metadata": {
    "colab": {
      "name": "Final Exam.ipynb",
      "provenance": [],
      "collapsed_sections": [],
      "toc_visible": true,
      "authorship_tag": "ABX9TyO7euKQ6wZd348xeUmaPBvU",
      "include_colab_link": true
    },
    "kernelspec": {
      "name": "python3",
      "display_name": "Python 3"
    },
    "language_info": {
      "name": "python"
    }
  },
  "cells": [
    {
      "cell_type": "markdown",
      "metadata": {
        "id": "view-in-github",
        "colab_type": "text"
      },
      "source": [
        "<a href=\"https://colab.research.google.com/github/JBCuntapay/CPEN-21-ECE-2-2/blob/main/Final_Exam.ipynb\" target=\"_parent\"><img src=\"https://colab.research.google.com/assets/colab-badge.svg\" alt=\"Open In Colab\"/></a>"
      ]
    },
    {
      "cell_type": "markdown",
      "source": [
        "**Problem Statement #1**"
      ],
      "metadata": {
        "id": "Ow9vxYvR_7X7"
      }
    },
    {
      "cell_type": "code",
      "source": [
        "#Create a Python program that will produce an output of sum of 10 numbers less than 5 using FOR LOOP statement.\n",
        "\n",
        "a =(1,2,3,4,1,2,3,4,2,3,4)\n",
        "total = 0\n",
        "for b in a:\n",
        "  total=total + b\n",
        "print(total)"
      ],
      "metadata": {
        "colab": {
          "base_uri": "https://localhost:8080/"
        },
        "id": "C-2diGry_XuN",
        "outputId": "745d38a7-85d1-45c9-b923-408e326d3fa2"
      },
      "execution_count": 2,
      "outputs": [
        {
          "output_type": "stream",
          "name": "stdout",
          "text": [
            "29\n"
          ]
        }
      ]
    },
    {
      "cell_type": "markdown",
      "source": [
        "**Problem Statement #2**"
      ],
      "metadata": {
        "id": "0Qv34cfl_qMj"
      }
    },
    {
      "cell_type": "code",
      "source": [
        "#Create a Python program that will produce accept five numbers and determine the sum of first and last number among the five numbers entered using WHILE LOOP    \n",
        "\n",
        "print(\"Enter 5 numbers : \")\n",
        "\n",
        "list = []\n",
        "count = 0 \n",
        "\n",
        "#Accept 5 integers using While Loop\n",
        "while count < 5:\n",
        "  num = int(input())\n",
        "  list.append(num)\n",
        "  count = count + 1\n",
        "\n",
        "# Sum of First and Last Number\n",
        "sum = 0;\n",
        "sum = sum + list [0]\n",
        "sum = sum + list [-1]\n",
        "\n",
        "print(\"sum = \",sum)"
      ],
      "metadata": {
        "colab": {
          "base_uri": "https://localhost:8080/"
        },
        "id": "0Go29nQcAlGO",
        "outputId": "6a89a4fd-d2d1-491e-a347-dc3463ec88f6"
      },
      "execution_count": 17,
      "outputs": [
        {
          "output_type": "stream",
          "name": "stdout",
          "text": [
            "Enter 5 numbers : \n",
            "1\n",
            "2\n",
            "3\n",
            "4\n",
            "5\n",
            "sum =  6\n"
          ]
        }
      ]
    },
    {
      "cell_type": "markdown",
      "source": [
        "**Problem Statement #3**"
      ],
      "metadata": {
        "id": "8yzAZ_MzAYwC"
      }
    },
    {
      "cell_type": "code",
      "source": [
        "#Create a Python program to calculate student grades. It accepts a numerical grade as input and it will display the character grade as output based on the given scale: (Use Nested-IF-Else statement)\n",
        "\n",
        "g=int(input(\"ENTER YOUR GRADE :\"))\n",
        "if g >= 90:\n",
        "  print(\"GRADE:A\")\n",
        "else:\n",
        "  if g >= 80:\n",
        "    print(\"GRADE:B\")\n",
        "  else:\n",
        "      if g >= 70:\n",
        "        print(\"GRADE:C\")\n",
        "      else:\n",
        "          if g >= 60:\n",
        "            print(\"GRADE:D\")\n",
        "          else:\n",
        "              if g < 60:\n",
        "                print(\"GRADE:F\")"
      ],
      "metadata": {
        "colab": {
          "base_uri": "https://localhost:8080/"
        },
        "id": "snd7clchAbQ7",
        "outputId": "e0f35a80-1138-41f6-d2e1-1a721df0ffa2"
      },
      "execution_count": 7,
      "outputs": [
        {
          "output_type": "stream",
          "name": "stdout",
          "text": [
            "ENTER YOUR GRADE :88\n",
            "GRADE:B\n"
          ]
        }
      ]
    }
  ]
}