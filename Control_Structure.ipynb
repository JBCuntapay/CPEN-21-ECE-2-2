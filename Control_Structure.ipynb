{
  "nbformat": 4,
  "nbformat_minor": 0,
  "metadata": {
    "colab": {
      "name": "Control_Structure.ipynb",
      "provenance": [],
      "authorship_tag": "ABX9TyPL74YksBKofqBWFJoK1gia",
      "include_colab_link": true
    },
    "kernelspec": {
      "name": "python3",
      "display_name": "Python 3"
    },
    "language_info": {
      "name": "python"
    }
  },
  "cells": [
    {
      "cell_type": "markdown",
      "metadata": {
        "id": "view-in-github",
        "colab_type": "text"
      },
      "source": [
        "<a href=\"https://colab.research.google.com/github/JBCuntapay/CPEN-21-ECE-2-2/blob/main/Control_Structure.ipynb\" target=\"_parent\"><img src=\"https://colab.research.google.com/assets/colab-badge.svg\" alt=\"Open In Colab\"/></a>"
      ]
    },
    {
      "cell_type": "markdown",
      "metadata": {
        "id": "YkqAWFQWjq4L"
      },
      "source": [
        "**Conditional Statement in Python**"
      ]
    },
    {
      "cell_type": "markdown",
      "metadata": {
        "id": "DXuzV8CRj7Hp"
      },
      "source": [
        "If statement\n"
      ]
    },
    {
      "cell_type": "code",
      "metadata": {
        "colab": {
          "base_uri": "https://localhost:8080/"
        },
        "id": "tvFg4zTrkJVJ",
        "outputId": "1f27af46-8767-4332-8e46-1f8c1e1141f0"
      },
      "source": [
        "a = 12\n",
        "b = 100\n",
        "if b>a:\n",
        "  print(\"b is greather than a\")"
      ],
      "execution_count": 1,
      "outputs": [
        {
          "output_type": "stream",
          "name": "stdout",
          "text": [
            "b is greather than a\n"
          ]
        }
      ]
    },
    {
      "cell_type": "markdown",
      "metadata": {
        "id": "16MWnNy6kMIB"
      },
      "source": [
        "Elif Statement"
      ]
    },
    {
      "cell_type": "code",
      "metadata": {
        "colab": {
          "base_uri": "https://localhost:8080/"
        },
        "id": "7mJsnhz3kPEZ",
        "outputId": "063b58a0-3952-410f-a2b8-53018d8ba7b5"
      },
      "source": [
        "a = 12\n",
        "b = 100\n",
        "if b<a:\n",
        "  print(\"b is less than a\")\n",
        "elif b>a:\n",
        "  print(\"b is greather than a\")"
      ],
      "execution_count": 2,
      "outputs": [
        {
          "output_type": "stream",
          "name": "stdout",
          "text": [
            "b is greather than a\n"
          ]
        }
      ]
    },
    {
      "cell_type": "markdown",
      "metadata": {
        "id": "udX_Ub36kSfg"
      },
      "source": [
        "Else Statement"
      ]
    },
    {
      "cell_type": "code",
      "metadata": {
        "colab": {
          "base_uri": "https://localhost:8080/"
        },
        "id": "mxEaT1D3kauI",
        "outputId": "21fb8add-dbf4-4cae-d882-40f4df4154ec"
      },
      "source": [
        "a = 12\n",
        "b = 12\n",
        "if b<a:\n",
        "  print(\"b is less than a\")\n",
        "elif b>a:\n",
        "  print(\"b is greather than a\")\n",
        "else:\n",
        "  print(\"a is equal to b\")"
      ],
      "execution_count": 3,
      "outputs": [
        {
          "output_type": "stream",
          "name": "stdout",
          "text": [
            "a is equal to b\n"
          ]
        }
      ]
    },
    {
      "cell_type": "markdown",
      "metadata": {
        "id": "Ug3o0Hi1kdMw"
      },
      "source": [
        "Short hand If...Else"
      ]
    },
    {
      "cell_type": "code",
      "metadata": {
        "colab": {
          "base_uri": "https://localhost:8080/"
        },
        "id": "AAu-t0oYkkXo",
        "outputId": "8c6a448a-7a16-442e-8332-6c8ec74462cb"
      },
      "source": [
        "a = 2\n",
        "b = 330\n",
        "print(\"A\") if a>b else print(\"B\")"
      ],
      "execution_count": 4,
      "outputs": [
        {
          "output_type": "stream",
          "name": "stdout",
          "text": [
            "B\n"
          ]
        }
      ]
    },
    {
      "cell_type": "markdown",
      "metadata": {
        "id": "63zmmVfGklpA"
      },
      "source": [
        "And Condition"
      ]
    },
    {
      "cell_type": "code",
      "metadata": {
        "colab": {
          "base_uri": "https://localhost:8080/"
        },
        "id": "Bj9vRVJykplI",
        "outputId": "6e9cfcd7-55d4-4a68-b6de-0701064ddcce"
      },
      "source": [
        "a = 200\n",
        "b = 33\n",
        "c = 500\n",
        "\n",
        "if a>b and a<c:\n",
        "  print(\"The conditions need to be True\")\n",
        "  "
      ],
      "execution_count": 5,
      "outputs": [
        {
          "output_type": "stream",
          "name": "stdout",
          "text": [
            "The conditions need to be True\n"
          ]
        }
      ]
    },
    {
      "cell_type": "markdown",
      "metadata": {
        "id": "yjer4lxtkshn"
      },
      "source": [
        "Or Condition"
      ]
    },
    {
      "cell_type": "code",
      "metadata": {
        "colab": {
          "base_uri": "https://localhost:8080/"
        },
        "id": "ZOda5N92kw5X",
        "outputId": "9e0e0c86-72f9-4057-912e-294d4a79840b"
      },
      "source": [
        "a = 200\n",
        "b = 33\n",
        "c = 500\n",
        "\n",
        "if a>b or a<b:\n",
        "  print(\"At least one of the conditions is True\")"
      ],
      "execution_count": 6,
      "outputs": [
        {
          "output_type": "stream",
          "name": "stdout",
          "text": [
            "At least one of the conditions is True\n"
          ]
        }
      ]
    },
    {
      "cell_type": "markdown",
      "metadata": {
        "id": "FYvyXz-FkzJn"
      },
      "source": [
        "Nested If"
      ]
    },
    {
      "cell_type": "code",
      "metadata": {
        "colab": {
          "base_uri": "https://localhost:8080/"
        },
        "id": "m2Ff2zDfk0bP",
        "outputId": "970d9e9e-48d3-4182-bb69-3460c468121b"
      },
      "source": [
        "a = 41\n",
        "\n",
        "if a > 10:\n",
        "  print(\"Above 10\")\n",
        "  if a > 20 :\n",
        "    print(\"Above 20\")\n",
        "  else:\n",
        "    print(\"not above 20\")"
      ],
      "execution_count": 7,
      "outputs": [
        {
          "output_type": "stream",
          "name": "stdout",
          "text": [
            "Above 10\n",
            "Above 20\n"
          ]
        }
      ]
    },
    {
      "cell_type": "markdown",
      "metadata": {
        "id": "ruSjQtJtk24g"
      },
      "source": [
        "Nested If Else"
      ]
    },
    {
      "cell_type": "code",
      "metadata": {
        "colab": {
          "base_uri": "https://localhost:8080/"
        },
        "id": "lFNeNoxGk5BP",
        "outputId": "99b0478a-cabc-4f2e-86a9-a82880d37c0b"
      },
      "source": [
        "a = 4\n",
        "\n",
        "if a > 10:\n",
        "  print(\"Above 10\")\n",
        "  if a > 20 :\n",
        "    print(\"Above 20\")\n",
        "  else:\n",
        "    print(\"not above 20\")\n",
        "else:\n",
        "  print(\"below 10\")\n"
      ],
      "execution_count": 8,
      "outputs": [
        {
          "output_type": "stream",
          "name": "stdout",
          "text": [
            "below 10\n"
          ]
        }
      ]
    },
    {
      "cell_type": "markdown",
      "metadata": {
        "id": "wfXJUFAxk6eg"
      },
      "source": [
        "**Example 1** Write a program that determines if the input is qualified to vote or not. The qualifying age is 18 years pld and above."
      ]
    },
    {
      "cell_type": "code",
      "metadata": {
        "colab": {
          "base_uri": "https://localhost:8080/"
        },
        "id": "iIkXRiWKk_i3",
        "outputId": "beb853b5-d6b2-40f3-d881-897554274676"
      },
      "source": [
        "# The qualifying age to vote\n",
        "\n",
        "age = 37\n",
        "\n",
        "if age >= 18:\n",
        "  print(\"Qualified to vote\")\n",
        "else:\n",
        "  print(\"You are not qualified to vote\")\n",
        "  "
      ],
      "execution_count": 9,
      "outputs": [
        {
          "output_type": "stream",
          "name": "stdout",
          "text": [
            "Qualified to vote\n"
          ]
        }
      ]
    },
    {
      "cell_type": "markdown",
      "metadata": {
        "id": "H3meDHqUlB-H"
      },
      "source": [
        "**Example 2** Write a program that determines if the input numper is POSITIVE or NEGATIVE. Consider 0 as POSITIVE."
      ]
    },
    {
      "cell_type": "code",
      "metadata": {
        "colab": {
          "base_uri": "https://localhost:8080/"
        },
        "id": "7DmBItwslEzv",
        "outputId": "770f0661-c6fc-4de9-e599-cc54077aa51d"
      },
      "source": [
        "# Whether Positive or Negative\n",
        "\n",
        "number = 0\n",
        "\n",
        "if number >= 0:\n",
        "  print(\"Positive\")\n",
        "else:\n",
        "  print(\"Negative\")\n",
        "  "
      ],
      "execution_count": 10,
      "outputs": [
        {
          "output_type": "stream",
          "name": "stdout",
          "text": [
            "Positive\n"
          ]
        }
      ]
    },
    {
      "cell_type": "markdown",
      "metadata": {
        "id": "KATj-hAslG9P"
      },
      "source": [
        "**Example 3**"
      ]
    },
    {
      "cell_type": "code",
      "metadata": {
        "id": "vrXlsyKElKc2"
      },
      "source": [
        "# Determine if grades are Passed, Remedial or Failed\n",
        "\n",
        "grade = 72\n",
        "\n",
        "if grade >75:\n",
        "  print(\"Passed\")\n",
        "  if grade ==74:\n",
        "    print(\"Remedial\")\n",
        "    if grade <74:\n",
        "      print(\"Failed\")\n",
        "      "
      ],
      "execution_count": 12,
      "outputs": []
    }
  ]
}