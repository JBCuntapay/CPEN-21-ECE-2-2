{
  "nbformat": 4,
  "nbformat_minor": 0,
  "metadata": {
    "colab": {
      "name": "Activity 1",
      "provenance": [],
      "collapsed_sections": [],
      "authorship_tag": "ABX9TyNLDMUr/XaLqlOCmL8Y4KgR",
      "include_colab_link": true
    },
    "kernelspec": {
      "name": "python3",
      "display_name": "Python 3"
    },
    "language_info": {
      "name": "python"
    }
  },
  "cells": [
    {
      "cell_type": "markdown",
      "metadata": {
        "id": "view-in-github",
        "colab_type": "text"
      },
      "source": [
        "<a href=\"https://colab.research.google.com/github/JBCuntapay/CPEN-21-ECE-2-2/blob/main/Lab1.ipynb\" target=\"_parent\"><img src=\"https://colab.research.google.com/assets/colab-badge.svg\" alt=\"Open In Colab\"/></a>"
      ]
    },
    {
      "cell_type": "code",
      "metadata": {
        "colab": {
          "base_uri": "https://localhost:8080/"
        },
        "id": "9UR2tHojyriq",
        "outputId": "6c0e1b8e-c8f2-4404-f529-a6bcb6f75696"
      },
      "source": [
        "print (\"Welcome to phython Programming\")"
      ],
      "execution_count": 1,
      "outputs": [
        {
          "output_type": "stream",
          "name": "stdout",
          "text": [
            "Welcome to phython Programming\n"
          ]
        }
      ]
    },
    {
      "cell_type": "code",
      "metadata": {
        "colab": {
          "base_uri": "https://localhost:8080/"
        },
        "id": "sM58hJPsy4Qz",
        "outputId": "ccb5924a-c00a-4331-9406-cf06e714c944"
      },
      "source": [
        "def personal_details():\n",
        "    name, age = \"Cuntapay, John Benneth E.\", 19\n",
        "    address = \"123 Ferma St. Anuling Lejos 1, Mendez, Cavite\"\n",
        "    print(\"Name: {}\\nAge: {}\\nAddress: {}\".format(name, age, address))\n",
        "\n",
        "personal_details()"
      ],
      "execution_count": 22,
      "outputs": [
        {
          "output_type": "stream",
          "name": "stdout",
          "text": [
            "Name: Cuntapay, John Benneth E.\n",
            "Age: 19\n",
            "Address: 123 Ferma St. Anuling Lejos 1, Mendez, Cavite\n"
          ]
        }
      ]
    }
  ]
}