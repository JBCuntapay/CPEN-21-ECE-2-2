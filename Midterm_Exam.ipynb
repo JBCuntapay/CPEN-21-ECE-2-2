{
  "nbformat": 4,
  "nbformat_minor": 0,
  "metadata": {
    "colab": {
      "name": "Midterm Exam",
      "provenance": [],
      "authorship_tag": "ABX9TyOnUiQ5AwI+7v3S2vELymMt",
      "include_colab_link": true
    },
    "kernelspec": {
      "name": "python3",
      "display_name": "Python 3"
    },
    "language_info": {
      "name": "python"
    }
  },
  "cells": [
    {
      "cell_type": "markdown",
      "metadata": {
        "id": "view-in-github",
        "colab_type": "text"
      },
      "source": [
        "<a href=\"https://colab.research.google.com/github/JBCuntapay/CPEN-21-ECE-2-2/blob/main/Midterm_Exam.ipynb\" target=\"_parent\"><img src=\"https://colab.research.google.com/assets/colab-badge.svg\" alt=\"Open In Colab\"/></a>"
      ]
    },
    {
      "cell_type": "markdown",
      "metadata": {
        "id": "sg-n8lKvsbh0"
      },
      "source": [
        "**PROBLEM STATEMENT 1**"
      ]
    },
    {
      "cell_type": "code",
      "metadata": {
        "colab": {
          "base_uri": "https://localhost:8080/"
        },
        "id": "be2KCQYevLlV",
        "outputId": "dbc87d98-41bc-4315-9b62-dca96ea0dc34"
      },
      "source": [
        "def personal_details():\n",
        "    name = \"John Benneth E. Cuntapay\"\n",
        "    sn = \"202012937\"\n",
        "    age = \"20\"\n",
        "    birthdate = \"Nov. 22 2001\"\n",
        "    address = \"123 Ferma St. Anuling Lejos 1 Mendez,Cavite\"\n",
        "    course = \"BS ECE\"\n",
        "    gwa = \"1.58\"\n",
        "    print(\"Name: {}\\nSn: {}\\nAge: {}\\nBirthdate: {}\\nAddress: {}\\nCourse: {}\\nGwa: {}\".format(name, sn, age, birthdate, address, course, gwa))\n",
        "\n",
        "personal_details()"
      ],
      "execution_count": 44,
      "outputs": [
        {
          "output_type": "stream",
          "name": "stdout",
          "text": [
            "Name: John Benneth E. Cuntapay\n",
            "Sn: 202012937\n",
            "Age: 20\n",
            "Birthdate: Nov. 22 2001\n",
            "Address: 123 Ferma St. Anuling Lejos 1 Mendez,Cavite\n",
            "Course: BS ECE\n",
            "Gwa: 1.58\n"
          ]
        }
      ]
    },
    {
      "cell_type": "markdown",
      "metadata": {
        "id": "DBQcqvwawu5G"
      },
      "source": [
        "**PROBLEM STATEMENT 2**"
      ]
    },
    {
      "cell_type": "code",
      "metadata": {
        "colab": {
          "base_uri": "https://localhost:8080/"
        },
        "id": "oP4Yr046xo69",
        "outputId": "a225eab7-a784-462d-d1fd-6feb1adaef4d"
      },
      "source": [
        "n = 4\n",
        "answ=\"Y\"\n",
        "print(2<n and n<6)\n",
        "print(2<n or n==6)\n",
        "print(not 2<n or n==6)\n",
        "print(not n<6)\n",
        "print(answ==\"Y\" or answ==\"y\")\n",
        "print(answ==\"Y\" and answ==\"y\")\n",
        "print(not answ==\"y\")\n",
        "print((2<n and n==5+1) or answ==\"No\")\n",
        "print((n==2 and n==7) or answ==\"Y\")\n",
        "print(n==2 and (n==7 or answ==\"Y\"))"
      ],
      "execution_count": 50,
      "outputs": [
        {
          "output_type": "stream",
          "name": "stdout",
          "text": [
            "True\n",
            "True\n",
            "False\n",
            "False\n",
            "True\n",
            "False\n",
            "True\n",
            "False\n",
            "True\n",
            "False\n"
          ]
        }
      ]
    },
    {
      "cell_type": "markdown",
      "metadata": {
        "id": "IOQpbae8w3D1"
      },
      "source": [
        "**PROBLEM STATEMENT 3**"
      ]
    },
    {
      "cell_type": "code",
      "metadata": {
        "colab": {
          "base_uri": "https://localhost:8080/"
        },
        "id": "BRDPOXNCw75V",
        "outputId": "1183dfb0-41fc-4145-ca9c-3bd24d84f866"
      },
      "source": [
        "x = 2\n",
        "y = -3\n",
        "w = 7\n",
        "z = -10\n",
        "\n",
        "print( x / y)\n",
        "print( w / y / x)\n",
        "print( z / y % x)\n",
        "print( x % (-y) * w)\n",
        "print( x % y)\n",
        "print( z % w - y / x * 5 + 5 ) \n",
        "print( 9 - x % ( 2 + y ))\n",
        "print( z // w)\n",
        "print((2+y)**2)\n",
        "print( w / x * 2)\n"
      ],
      "execution_count": 31,
      "outputs": [
        {
          "output_type": "stream",
          "name": "stdout",
          "text": [
            "-0.6666666666666666\n",
            "-1.1666666666666667\n",
            "1.3333333333333335\n",
            "14\n",
            "-1\n",
            "16.5\n",
            "9\n",
            "-2\n",
            "1\n",
            "7.0\n"
          ]
        }
      ]
    }
  ]
}